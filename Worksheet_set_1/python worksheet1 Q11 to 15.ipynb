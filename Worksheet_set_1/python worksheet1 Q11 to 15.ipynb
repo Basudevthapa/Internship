{
 "cells": [
  {
   "cell_type": "markdown",
   "id": "45ad8ff9",
   "metadata": {},
   "source": [
    "11)factorial of a number"
   ]
  },
  {
   "cell_type": "code",
   "execution_count": 3,
   "id": "85240cbc",
   "metadata": {},
   "outputs": [
    {
     "name": "stdout",
     "output_type": "stream",
     "text": [
      "Enter any number:9\n",
      "factorial of 9 is 362880\n"
     ]
    }
   ],
   "source": [
    "import math\n",
    "def fact(n):\n",
    "    return(math.factorial(n))\n",
    "num=int(input(\"Enter any number:\"))\n",
    "f=fact(num)\n",
    "print(\"factorial of\",num,\"is\",f)\n"
   ]
  },
  {
   "cell_type": "markdown",
   "id": "32f7e95c",
   "metadata": {},
   "source": [
    "12)number is prime or composite"
   ]
  },
  {
   "cell_type": "code",
   "execution_count": 2,
   "id": "540388f0",
   "metadata": {},
   "outputs": [
    {
     "name": "stdout",
     "output_type": "stream",
     "text": [
      "Enter any Number:8\n",
      "8 is not prime but composite number\n",
      "8 is not prime but composite number\n",
      "8 number is prime but not composite number\n"
     ]
    }
   ],
   "source": [
    "import math\n",
    "n=int(input(\"Enter any Number:\"))\n",
    "if(n==0 or n==1):\n",
    "    print(n,\"Number is neither prime nor composite\")\n",
    "elif n>1:\n",
    "    for i in range(2,n):\n",
    "        if(n%i==0):\n",
    "            print(n,\"is not prime but composite number\")\n",
    "            \n",
    "    else:\n",
    "        print(n,\"number is prime but not composite number\")\n",
    "else:\n",
    "    print(\"please enter positive number only\")"
   ]
  },
  {
   "cell_type": "markdown",
   "id": "bd51fd03",
   "metadata": {},
   "source": [
    "13) string is palindrome or not"
   ]
  },
  {
   "cell_type": "code",
   "execution_count": 7,
   "id": "29f9d784",
   "metadata": {},
   "outputs": [
    {
     "name": "stdout",
     "output_type": "stream",
     "text": [
      "Enter any string:nayan\n",
      "nayan --> This string is palindrome\n",
      "string after converting the case of each character: NAYAN\n"
     ]
    }
   ],
   "source": [
    "s=input(\"Enter any string:\")\n",
    "j=-1\n",
    "flag=0\n",
    "for i in s:\n",
    "    if i !=s[j]:\n",
    "        flag=1\n",
    "    j=j-1\n",
    "if flag==1:\n",
    "    print(s,\"--> This is not palindrome\")\n",
    "else:\n",
    "    print(s,\"--> This string is palindrome\")\n",
    "sc=s.swapcase()\n",
    "print(\"string after converting the case of each character:\",sc)\n",
    "    "
   ]
  },
  {
   "cell_type": "markdown",
   "id": "acce115f",
   "metadata": {},
   "source": [
    "14)the third side of right-angled triangle from two given sides"
   ]
  },
  {
   "cell_type": "code",
   "execution_count": 12,
   "id": "3ee9e081",
   "metadata": {},
   "outputs": [
    {
     "name": "stdout",
     "output_type": "stream",
     "text": [
      "5.830951894845301\n"
     ]
    }
   ],
   "source": [
    "def findthirdside(side1,side2):\n",
    "    h=(((side1*side1)+(side2*side2))**(1/2));\n",
    "    return h;\n",
    "\n",
    "side1=5;\n",
    "side2=3;\n",
    "print(findthirdside(side1,side2));\n",
    "    "
   ]
  },
  {
   "cell_type": "markdown",
   "id": "32b7c8f8",
   "metadata": {},
   "source": [
    "15)print the frequency of each of the characters present in a given string"
   ]
  },
  {
   "cell_type": "code",
   "execution_count": 23,
   "id": "21b04667",
   "metadata": {},
   "outputs": [
    {
     "name": "stdout",
     "output_type": "stream",
     "text": [
      "Count of all characters in Basudevthapa is :\n",
      " {'B': 1, 'a': 3, 's': 1, 'u': 1, 'd': 1, 'e': 1, 'v': 1, 't': 1, 'h': 1, 'p': 1}\n"
     ]
    }
   ],
   "source": [
    "test_str = \"Basudevthapa\"\n",
    " \n",
    "all_freq = {}\n",
    "  \n",
    "for i in test_str:\n",
    "    if i in all_freq:\n",
    "        all_freq[i] += 1\n",
    "    else:\n",
    "        all_freq[i] = 1\n",
    "print (\"Count of all characters in Basudevthapa is :\\n \"\n",
    "                                        +  str(all_freq))"
   ]
  }
 ],
 "metadata": {
  "kernelspec": {
   "display_name": "Python 3",
   "language": "python",
   "name": "python3"
  },
  "language_info": {
   "codemirror_mode": {
    "name": "ipython",
    "version": 3
   },
   "file_extension": ".py",
   "mimetype": "text/x-python",
   "name": "python",
   "nbconvert_exporter": "python",
   "pygments_lexer": "ipython3",
   "version": "3.8.8"
  }
 },
 "nbformat": 4,
 "nbformat_minor": 5
}
